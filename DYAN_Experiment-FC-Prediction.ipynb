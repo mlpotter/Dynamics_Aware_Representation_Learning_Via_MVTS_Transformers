{
 "cells": [
  {
   "cell_type": "code",
   "execution_count": 1,
   "id": "hydraulic-hardwood",
   "metadata": {},
   "outputs": [
    {
     "name": "stderr",
     "output_type": "stream",
     "text": [
      "C:\\Users\\lpott\\anaconda3\\envs\\DYAN\\lib\\site-packages\\tqdm\\auto.py:22: TqdmWarning: IProgress not found. Please update jupyter and ipywidgets. See https://ipywidgets.readthedocs.io/en/stable/user_install.html\n",
      "  from .autonotebook import tqdm as notebook_tqdm\n"
     ]
    }
   ],
   "source": [
    "############################# Import Section #################################\n",
    "\n",
    "## Imports related to PyTorch\n",
    "import torch\n",
    "import torchvision\n",
    "import torch.nn as nn\n",
    "import torch.utils.data as Data\n",
    "from torch.autograd import Variable\n",
    "from torch.optim import lr_scheduler\n",
    "from torchvision import transforms, utils\n",
    "from torch.utils.data import TensorDataset, DataLoader,Dataset\n",
    "import torch.nn.functional as F\n",
    "\n",
    "## Generic imports\n",
    "import os\n",
    "import time\n",
    "import numpy as np\n",
    "import pandas as pd\n",
    "from PIL import Image\n",
    "import matplotlib.pyplot as plt\n",
    "import pickle\n",
    "import seaborn as sns\n",
    "from sklearn.metrics import classification_report\n",
    "from copy import deepcopy\n",
    "import math\n",
    "import random\n",
    "from tqdm import tqdm\n",
    "\n",
    "## Dependencies classes and functions\n",
    "from utils import gridRing\n",
    "from utils import asMinutes\n",
    "from utils import timeSince\n",
    "from utils import getWeights\n",
    "from utils import save_checkpoint\n",
    "from utils import getListOfFolders\n",
    "\n",
    "## Import Model\n",
    "from DyanOF import OFModel,creatRealDictionary,fista\n",
    "\n",
    "############################# Import Section #################################"
   ]
  },
  {
   "cell_type": "code",
   "execution_count": 2,
   "id": "8ba95c55",
   "metadata": {},
   "outputs": [],
   "source": [
    "def load_data(df,chunk_size=1):\n",
    "    X = []\n",
    "    for i in tqdm(df.index.unique()):\n",
    "        x = torch.FloatTensor(df.loc[i].values)\n",
    "        size = x.shape[0]\n",
    "        if chunk_size > 1:\n",
    "            size = int(size/chunk_size)\n",
    "        x = torch.chunk(x,chunk_size)\n",
    "        X.extend(x)\n",
    "    X = torch.stack(X, 0)\n",
    "    return X\n",
    "\n",
    "def load_dataset(dataset_name = \"lorenz\",file_path=r'C:\\Users\\lpott\\Desktop\\DYAN\\Code\\data',chunk_size=1):\n",
    "\n",
    "    with open(os.path.join(file_path,f\"{dataset_name}/{dataset_name}_train_inputs.pickle\"), \"rb\") as handle:\n",
    "        train_df = pickle.load(handle)\n",
    "\n",
    "    with open(os.path.join(file_path,f\"{dataset_name}/{dataset_name}_test_inputs.pickle\"), \"rb\") as handle:\n",
    "        test_df = pickle.load(handle)\n",
    "\n",
    "    X_train = load_data(train_df,chunk_size)\n",
    "    X_test = load_data(test_df,chunk_size)\n",
    "\n",
    "    return X_train,X_test"
   ]
  },
  {
   "cell_type": "code",
   "execution_count": 3,
   "id": "485ba7c2",
   "metadata": {},
   "outputs": [],
   "source": [
    "class differential_dataset(Dataset):\n",
    "\n",
    "    def __init__(self,X,horizon):\n",
    "\n",
    "        self.X = X\n",
    "        self.horizon = horizon\n",
    "        self.D = X.shape[-1]\n",
    "        self.T = X.shape[1]-self.horizon+1\n",
    "        \n",
    "        print(self.horizon)\n",
    "        print(self.T)\n",
    "        self.mu = torch.mean(X,dim=[0,1])#torch.tensor([torch.mean(X[:,:,0]), torch.mean(X[:,:,1]), torch.mean(X[:,:,2])])\n",
    "        self.std = torch.std(X,dim=[0,1])#torch.tensor([torch.std(X[:,:,0]), torch.std(X[:,:,1]), torch.std(X[:,:,2])])\n",
    "\n",
    "    def __len__(self):\n",
    "        return self.X.shape[0]\n",
    "\n",
    "    def __getitem__(self,idx):\n",
    "\n",
    "        if torch.is_tensor(idx):\n",
    "            idx = idx.tolist()\n",
    "        if type(idx) is int:\n",
    "            idx = [idx]\n",
    "\n",
    "        \n",
    "        start = torch.randint(low=0,high=self.T,size=(len(idx),))\n",
    "        windows = torch.tensor([list(range(i,i+self.horizon)) for i in start]).unsqueeze(-1).repeat(1,1,self.D)\n",
    "        x = torch.gather(self.X[idx],1,windows).squeeze()\n",
    "\n",
    "        return x"
   ]
  },
  {
   "cell_type": "code",
   "execution_count": 4,
   "id": "1ac63887",
   "metadata": {},
   "outputs": [],
   "source": [
    "class differential_dataset_strided(Dataset):\n",
    "\n",
    "    def __init__(self,X,horizon,stride):\n",
    "\n",
    "        self.X = X\n",
    "        self.horizon = horizon\n",
    "        self.D = X.shape[-1]\n",
    "        self.T = X.shape[1]-self.horizon+1\n",
    "        self.stride = stride\n",
    "        print(self.horizon)\n",
    "        print(self.T)\n",
    "\n",
    "        self.X = torch.concat([X[:,i:(i+horizon),:] for i in range(0,self.T,stride)],0)\n",
    "        \n",
    "#         self.mu = torch.mean(X,dim=[0,1])#torch.tensor([torch.mean(X[:,:,0]), torch.mean(X[:,:,1]), torch.mean(X[:,:,2])])\n",
    "#         self.std = torch.std(X,dim=[0,1])#torch.tensor([torch.std(X[:,:,0]), torch.std(X[:,:,1]), torch.std(X[:,:,2])])\n",
    "        print(X.shape)\n",
    "        self.mu = torch.tensor([torch.mean(X[:,:,i]) for i in range(self.D)])\n",
    "        self.std = torch.tensor([torch.std(X[:,:,i]) for i in range(self.D)])        \n",
    "    def __len__(self):\n",
    "        return self.X.shape[0]\n",
    "\n",
    "    def __getitem__(self,idx):\n",
    "\n",
    "#         if torch.is_tensor(idx):\n",
    "#             idx = idx.tolist()\n",
    "#         if type(idx) is int:\n",
    "#             idx = [idx]\n",
    "\n",
    "        x = self.X[idx,:,:]\n",
    "        \n",
    "        return x"
   ]
  },
  {
   "cell_type": "code",
   "execution_count": 5,
   "id": "70dde5dc",
   "metadata": {},
   "outputs": [],
   "source": [
    "class encoder(nn.Module):\n",
    "    def __init__(self,D,hidden_dim,latent_dim,dropout=0,layer_norm_epsilon=1e-5,device='cuda:0'):\n",
    "        super(encoder,self).__init__()\n",
    "        self.D = D\n",
    "        self.hidden_dim = hidden_dim\n",
    "        self.latent_dim = latent_dim\n",
    "        self.device = device\n",
    "        self.dropout = dropout\n",
    "        \n",
    "        self.Encoder =  nn.Sequential(\n",
    "            nn.Linear(D, hidden_dim),\n",
    "            nn.LeakyReLU(),\n",
    "            nn.Linear(hidden_dim, hidden_dim),\n",
    "            nn.LeakyReLU(),\n",
    "            nn.Linear(hidden_dim, latent_dim),\n",
    "            nn.LayerNorm(latent_dim, eps=layer_norm_epsilon,elementwise_affine=False),\n",
    "            nn.Dropout(dropout)\n",
    "        )\n",
    "        \n",
    "        self.init_weight()\n",
    "        \n",
    "    def forward(self,x):\n",
    "#         \n",
    "        x = self.Encoder(x)\n",
    "        \n",
    "        return x\n",
    "    \n",
    "    def init_weight(self):\n",
    "        def initialize_weights(m):\n",
    "            if isinstance(m, nn.Linear):\n",
    "                nn.init.xavier_normal_(m.weight.data)\n",
    "        self.Encoder.apply(initialize_weights)"
   ]
  },
  {
   "cell_type": "code",
   "execution_count": 6,
   "id": "82dccd95",
   "metadata": {},
   "outputs": [],
   "source": [
    "class decoder(nn.Module):\n",
    "    def __init__(self,D,hidden_dim,latent_dim,device='cuda:0'):\n",
    "        super(decoder,self).__init__()\n",
    "        self.D = D\n",
    "        self.hidden_dim = hidden_dim\n",
    "        self.latent_dim = latent_dim\n",
    "        self.device = device\n",
    "        \n",
    "        self.Decoder = nn.Sequential(\n",
    "            nn.Linear(latent_dim, hidden_dim),\n",
    "            nn.LeakyReLU(),\n",
    "            nn.Linear(hidden_dim, hidden_dim),\n",
    "            nn.LeakyReLU(),\n",
    "            nn.Linear(hidden_dim, D)\n",
    "        )\n",
    "        \n",
    "        self.init_weight()\n",
    "\n",
    "    def forward(self,x):\n",
    "        \n",
    "        x = self.Decoder(x)\n",
    "        \n",
    "        return x\n",
    "    \n",
    "    def init_weight(self):\n",
    "        def initialize_weights(m):\n",
    "            if isinstance(m, nn.Linear):\n",
    "                nn.init.xavier_normal_(m.weight.data)\n",
    "        self.Decoder.apply(initialize_weights)"
   ]
  },
  {
   "cell_type": "code",
   "execution_count": 39,
   "id": "bc23d65f",
   "metadata": {},
   "outputs": [],
   "source": [
    "class TDYANT(nn.Module):\n",
    "    def __init__(self, \n",
    "                 Drr, \n",
    "                 Dtheta,\n",
    "                 N,\n",
    "                 D,\n",
    "                 hidden_dim,\n",
    "                 latent_dim,\n",
    "                 dropout=0,\n",
    "                 layer_norm_epsilon=1e-5,\n",
    "                 device='cuda:0'):\n",
    "        \n",
    "        super(TDYANT, self).__init__()\n",
    "        \n",
    "        self.rr = nn.Parameter(Drr)\n",
    "        self.theta = nn.Parameter(Dtheta)\n",
    "        self.device = device\n",
    "        self.hidden_dim = hidden_dim\n",
    "        self.latent_dim = latent_dim\n",
    "        \n",
    "        self.encoder_ = encoder(D,hidden_dim,latent_dim,dropout,layer_norm_epsilon,device)\n",
    "        self.decoder_ = decoder(D,hidden_dim,latent_dim,device)\n",
    "        \n",
    "        self.register_buffer('mu', torch.zeros((D,)))\n",
    "        self.register_buffer('std', torch.ones((D,)))\n",
    "        \n",
    "    def forward(self, x,horizon):\n",
    "        x = self._normalize(x)\n",
    "        \n",
    "        x_recon,x_ahead = x[:,:horizon,:],x[:,horizon:,:]\n",
    "        print(x_recon.shape)\n",
    "        print(x_ahead.shape)\n",
    "        T = x_recon.shape[1]\n",
    "        T_Total = x_recon.shape[1] + x_ahead.shape[1]\n",
    "\n",
    "        \n",
    "        latent = self.encoder_(x_recon)\n",
    "\n",
    "        dic = creatRealDictionary(T_Total,self.rr,self.theta,device=self.device)\n",
    "        dic_recon = dic[:horizon]\n",
    "#         dic_ahead = dic[horizon:]\n",
    "        \n",
    "        ## for UCF Dataset:\n",
    "        # 0.1\n",
    "        sparsecode = fista(dic_recon,latent,0.01,100,self.device)\n",
    "\n",
    "        y = torch.matmul(dic,sparsecode)\n",
    "        y_recon = y[:,:horizon,:]\n",
    "        y_ahead = y[:,horizon:,:]\n",
    "\n",
    "        x_recon_all = self.decoder_(y)\n",
    "        x_recon_hat = x_recon_all[:,:horizon,:]\n",
    "        x_ahead_hat = x_recon_all[:,horizon:,:]\n",
    "        \n",
    "        x_recon_hat = self._unnormalize(x_recon_hat)\n",
    "        x_ahead_hat = self._unnormalize(x_ahead_hat)\n",
    "\n",
    "        return x_recon_hat,x_ahead_hat,latent,y_recon,y_ahead\n",
    "    \n",
    "    def _normalize(self, x):\n",
    "        return (x - self.mu.unsqueeze(0).unsqueeze(0))/self.std.unsqueeze(0).unsqueeze(0)    \n",
    "    \n",
    "    def _unnormalize(self, x):\n",
    "        return (self.std.unsqueeze(0).unsqueeze(0)*x + self.mu.unsqueeze(0).unsqueeze(0))"
   ]
  },
  {
   "cell_type": "code",
   "execution_count": 40,
   "id": "bc55dfb2",
   "metadata": {},
   "outputs": [],
   "source": [
    "def dynamic_loss(x,model,horizon,alpha=1):\n",
    "    x_recon,x_ahead = x[:,:horizon,:],x[:,horizon:,:]\n",
    "    x_recon_hat,x_ahead_hat,latent,y_recon,y_ahead = model(x,horizon)\n",
    "    \n",
    "#     x_recon_hat_latent = model._unnormalize(model.decoder_(latent))\n",
    "    print(x_recon_hat.shape)\n",
    "    print(x_ahead_hat.shape)\n",
    "    reconstruction_loss = F.mse_loss(x_recon_hat,x_recon)\n",
    "    prediction_loss = F.mse_loss(x_ahead_hat,x_ahead)\n",
    "    \n",
    "#     recon_latent = F.mse_loss(x_recon_hat_latent,x_recon)\n",
    "    \n",
    "    loss = reconstruction_loss + alpha*prediction_loss \n",
    "    \n",
    "    with torch.no_grad():\n",
    "        MSE_LOSS_latent = torch.nn.functional.mse_loss(y_recon,latent)#\n",
    "        NORM_LOSS = torch.norm(y_recon,p='fro',dim=2).mean()\n",
    "    \n",
    "    return loss,reconstruction_loss,prediction_loss,MSE_LOSS_latent,NORM_LOSS"
   ]
  },
  {
   "cell_type": "code",
   "execution_count": 41,
   "id": "mounted-johns",
   "metadata": {},
   "outputs": [],
   "source": [
    "## HyperParameters for the Network\n",
    "NumOfPoles = 50\n",
    "\n",
    "N = NumOfPoles*4\n",
    "\n",
    "Time_Length = 88\n",
    "stride = 128"
   ]
  },
  {
   "cell_type": "code",
   "execution_count": 42,
   "id": "4e207f04",
   "metadata": {},
   "outputs": [],
   "source": [
    "## Load saved model \n",
    "load_ckpt = False\n",
    "checkptname = \"lorenz_fc_prediction_strided\" #\"lorenz_prediction\\lorenz_prediction50_best\"\n",
    "dataset_name = \"lorenz\"\n",
    "file_path=r'C:\\Users\\lpott\\Desktop\\DYAN\\Code\\data'\n",
    "ckpt_file = f\"data/{dataset_name}/\"+checkptname+str(1)+'.pth' # for Kitti Dataset: 'KittiModel.pth'\n"
   ]
  },
  {
   "cell_type": "code",
   "execution_count": 43,
   "id": "e7f12023",
   "metadata": {},
   "outputs": [
    {
     "name": "stderr",
     "output_type": "stream",
     "text": [
      "100%|█████████████████████████████████████████████████████████████████████████| 10000/10000 [00:00<00:00, 12542.70it/s]\n",
      "100%|███████████████████████████████████████████████████████████████████████████| 1000/1000 [00:00<00:00, 12820.38it/s]"
     ]
    },
    {
     "name": "stdout",
     "output_type": "stream",
     "text": [
      "X_tr shape:  torch.Size([10000, 400, 3])\n",
      "X_te shape:  torch.Size([1000, 400, 3])\n"
     ]
    },
    {
     "name": "stderr",
     "output_type": "stream",
     "text": [
      "\n"
     ]
    }
   ],
   "source": [
    "X_train,X_test = load_dataset(dataset_name=dataset_name,file_path=file_path,chunk_size=1)\n",
    "print(\"X_tr shape: \",X_train.shape)\n",
    "print(\"X_te shape: \",X_test.shape)"
   ]
  },
  {
   "cell_type": "code",
   "execution_count": 44,
   "id": "unlikely-textbook",
   "metadata": {},
   "outputs": [],
   "source": [
    "## Initializing r, theta\n",
    "P,Pall = gridRing(N)\n",
    "Drr = abs(P)\n",
    "Drr = torch.from_numpy(Drr).float() #.to(device)\n",
    "Dtheta = np.angle(P)\n",
    "Dtheta = torch.from_numpy(Dtheta).float() #.to(device)"
   ]
  },
  {
   "cell_type": "code",
   "execution_count": 45,
   "id": "5cbb5a1c",
   "metadata": {},
   "outputs": [],
   "source": [
    "import time"
   ]
  },
  {
   "cell_type": "code",
   "execution_count": 46,
   "id": "69d0b3fc",
   "metadata": {},
   "outputs": [],
   "source": [
    "# MODEL PARAMETERS\n",
    "hidden_dim = 1024\n",
    "latent_dim = 128\n",
    "D = X_train.shape[-1]\n",
    "device = torch.device(\"cuda:0\")\n",
    "dropout = 0.00\n",
    "layer_norm_epsilon = 1e-08\n",
    "\n",
    "# TRAINING PARAMETERS\n",
    "BATCH_SIZE = 128\n",
    "\n",
    "LR = 0.0005\n",
    "EPOCH = 500\n",
    "print_every = 5\n",
    "saveEvery = 10\n",
    "\n",
    "# TIME PARAMETERS\n",
    "Time_Length = Time_Length\n",
    "horizon = 16\n",
    "alpha = 3"
   ]
  },
  {
   "cell_type": "code",
   "execution_count": 47,
   "id": "8c2a5a35",
   "metadata": {},
   "outputs": [],
   "source": [
    "N_train = X_train.shape[0]\n",
    "N_test = X_test.shape[0]"
   ]
  },
  {
   "cell_type": "code",
   "execution_count": 48,
   "id": "e1c3b210",
   "metadata": {},
   "outputs": [
    {
     "name": "stdout",
     "output_type": "stream",
     "text": [
      "88\n",
      "313\n",
      "88\n",
      "313\n"
     ]
    }
   ],
   "source": [
    "train_dl = DataLoader(differential_dataset(X_train,Time_Length),batch_size=BATCH_SIZE,shuffle=True)\n",
    "test_dl = DataLoader(differential_dataset(X_test,Time_Length),batch_size=BATCH_SIZE)\n",
    "test_evaluator_dl = DataLoader(TensorDataset(X_test[:,-Time_Length:,:]),batch_size=BATCH_SIZE)"
   ]
  },
  {
   "cell_type": "code",
   "execution_count": 49,
   "id": "86da1803",
   "metadata": {},
   "outputs": [
    {
     "name": "stdout",
     "output_type": "stream",
     "text": [
      "torch.Size([128, 88, 3])\n"
     ]
    },
    {
     "data": {
      "image/png": "[encoded data removed]",
      "text/plain": [
       "<Figure size 432x288 with 1 Axes>"
      ]
     },
     "metadata": {
      "needs_background": "light"
     },
     "output_type": "display_data"
    }
   ],
   "source": [
    "for i in train_dl:\n",
    "    print(i.shape)\n",
    "    break\n",
    "plt.plot(i[0,:,0])\n",
    "plt.plot(i[0,:,1])\n",
    "plt.plot(i[0,:,2])\n",
    "plt.show()"
   ]
  },
  {
   "cell_type": "code",
   "execution_count": 50,
   "id": "502a65b3",
   "metadata": {},
   "outputs": [],
   "source": [
    "## Create the model\n",
    "model = TDYANT( Drr, \n",
    "                 Dtheta,\n",
    "                 N,\n",
    "                 D,\n",
    "                 hidden_dim,\n",
    "               latent_dim,\n",
    "                 dropout,\n",
    "               layer_norm_epsilon,\n",
    "                 device).to(device)\n",
    "\n",
    "model.mu = train_dl.dataset.mu.to(device)\n",
    "model.std = train_dl.dataset.std.to(device)\n",
    "\n"
   ]
  },
  {
   "cell_type": "code",
   "execution_count": 51,
   "id": "50fcebe5",
   "metadata": {},
   "outputs": [],
   "source": [
    "model.device = \"cuda:0\"\n",
    "model = model.cuda()\n",
    "device = \"cuda:0\""
   ]
  },
  {
   "cell_type": "code",
   "execution_count": 52,
   "id": "cb92af2b",
   "metadata": {},
   "outputs": [
    {
     "name": "stdout",
     "output_type": "stream",
     "text": [
      "Training from epoch:  1\n",
      "-------------------------\n"
     ]
    }
   ],
   "source": [
    "torch.cuda.empty_cache()\n",
    "start_epoch = 1\n",
    "\n",
    "optimizer = torch.optim.Adam(model.parameters(), lr=LR*0.995 ** (start_epoch - 1),weight_decay=1e-8)\n",
    "scheduler = torch.optim.lr_scheduler.ExponentialLR(optimizer, gamma=0.995)\n",
    "\n",
    "## If want to continue training from a checkpoint\n",
    "if(load_ckpt):\n",
    "    print(\"LOADING CHECKPT\")\n",
    "    loadedcheckpoint = torch.load(ckpt_file)\n",
    "    start_epoch = loadedcheckpoint['epoch']\n",
    "    model.load_state_dict(loadedcheckpoint['state_dict'])\n",
    "    optimizer.load_state_dict(loadedcheckpoint['optimizer'])\n",
    "\n",
    "print(\"Training from epoch: \", start_epoch)\n",
    "print('-' * 25)\n"
   ]
  },
  {
   "cell_type": "code",
   "execution_count": 53,
   "id": "461984cf",
   "metadata": {},
   "outputs": [],
   "source": [
    "print_every = 1"
   ]
  },
  {
   "cell_type": "code",
   "execution_count": 54,
   "id": "6480cca7",
   "metadata": {
    "scrolled": true
   },
   "outputs": [
    {
     "name": "stderr",
     "output_type": "stream",
     "text": [
      "\r",
      "  0%|                                                                                           | 0/79 [00:00<?, ?it/s]"
     ]
    },
    {
     "name": "stdout",
     "output_type": "stream",
     "text": [
      "torch.Size([128, 16, 3])\n",
      "torch.Size([128, 72, 3])\n"
     ]
    },
    {
     "name": "stderr",
     "output_type": "stream",
     "text": [
      "\r",
      "  1%|█                                                                                  | 1/79 [00:00<00:38,  2.01it/s]"
     ]
    },
    {
     "name": "stdout",
     "output_type": "stream",
     "text": [
      "torch.Size([128, 16, 3])\n",
      "torch.Size([128, 72, 3])\n"
     ]
    },
    {
     "name": "stderr",
     "output_type": "stream",
     "text": [
      "\r",
      "  3%|██                                                                                 | 2/79 [00:00<00:27,  2.83it/s]"
     ]
    },
    {
     "name": "stdout",
     "output_type": "stream",
     "text": [
      "torch.Size([128, 16, 3])\n",
      "torch.Size([128, 72, 3])\n"
     ]
    },
    {
     "name": "stderr",
     "output_type": "stream",
     "text": [
      "\r",
      "  4%|███▏                                                                               | 3/79 [00:00<00:23,  3.28it/s]"
     ]
    },
    {
     "name": "stdout",
     "output_type": "stream",
     "text": [
      "torch.Size([128, 16, 3])\n",
      "torch.Size([128, 72, 3])\n"
     ]
    },
    {
     "name": "stderr",
     "output_type": "stream",
     "text": [
      "\r",
      "  5%|████▏                                                                              | 4/79 [00:01<00:21,  3.56it/s]"
     ]
    },
    {
     "name": "stdout",
     "output_type": "stream",
     "text": [
      "torch.Size([128, 16, 3])\n",
      "torch.Size([128, 72, 3])\n"
     ]
    },
    {
     "name": "stderr",
     "output_type": "stream",
     "text": [
      "\r",
      "  6%|█████▎                                                                             | 5/79 [00:01<00:19,  3.74it/s]"
     ]
    },
    {
     "name": "stdout",
     "output_type": "stream",
     "text": [
      "torch.Size([128, 16, 3])\n",
      "torch.Size([128, 72, 3])\n"
     ]
    },
    {
     "name": "stderr",
     "output_type": "stream",
     "text": [
      "\r",
      "  8%|██████▎                                                                            | 6/79 [00:01<00:18,  3.85it/s]"
     ]
    },
    {
     "name": "stdout",
     "output_type": "stream",
     "text": [
      "torch.Size([128, 16, 3])\n",
      "torch.Size([128, 72, 3])\n"
     ]
    },
    {
     "name": "stderr",
     "output_type": "stream",
     "text": [
      "\r",
      "  9%|███████▎                                                                           | 7/79 [00:01<00:18,  3.93it/s]"
     ]
    },
    {
     "name": "stdout",
     "output_type": "stream",
     "text": [
      "torch.Size([128, 16, 3])\n",
      "torch.Size([128, 72, 3])\n"
     ]
    },
    {
     "name": "stderr",
     "output_type": "stream",
     "text": [
      "\r",
      " 10%|████████▍                                                                          | 8/79 [00:02<00:18,  3.90it/s]"
     ]
    },
    {
     "name": "stdout",
     "output_type": "stream",
     "text": [
      "torch.Size([128, 16, 3])\n",
      "torch.Size([128, 72, 3])\n"
     ]
    },
    {
     "name": "stderr",
     "output_type": "stream",
     "text": [
      "\r",
      " 11%|█████████▍                                                                         | 9/79 [00:02<00:17,  3.96it/s]"
     ]
    },
    {
     "name": "stdout",
     "output_type": "stream",
     "text": [
      "torch.Size([128, 16, 3])\n",
      "torch.Size([128, 72, 3])\n"
     ]
    },
    {
     "name": "stderr",
     "output_type": "stream",
     "text": [
      "\r",
      " 13%|██████████▍                                                                       | 10/79 [00:02<00:17,  3.99it/s]"
     ]
    },
    {
     "name": "stdout",
     "output_type": "stream",
     "text": [
      "torch.Size([128, 16, 3])\n",
      "torch.Size([128, 72, 3])\n"
     ]
    },
    {
     "name": "stderr",
     "output_type": "stream",
     "text": [
      "\r",
      " 14%|███████████▍                                                                      | 11/79 [00:02<00:16,  4.05it/s]"
     ]
    },
    {
     "name": "stdout",
     "output_type": "stream",
     "text": [
      "torch.Size([128, 16, 3])\n",
      "torch.Size([128, 72, 3])\n"
     ]
    },
    {
     "name": "stderr",
     "output_type": "stream",
     "text": [
      "\r",
      " 15%|████████████▍                                                                     | 12/79 [00:03<00:16,  4.11it/s]"
     ]
    },
    {
     "name": "stdout",
     "output_type": "stream",
     "text": [
      "torch.Size([128, 16, 3])\n",
      "torch.Size([128, 72, 3])\n"
     ]
    },
    {
     "name": "stderr",
     "output_type": "stream",
     "text": [
      " 16%|█████████████▍                                                                    | 13/79 [00:03<00:18,  3.65it/s]\n"
     ]
    },
    {
     "name": "stdout",
     "output_type": "stream",
     "text": [
      "torch.Size([128, 16, 3])\n",
      "torch.Size([128, 72, 3])\n"
     ]
    },
    {
     "ename": "KeyboardInterrupt",
     "evalue": "",
     "output_type": "error",
     "traceback": [
      "\u001b[1;31m---------------------------------------------------------------------------\u001b[0m",
      "\u001b[1;31mKeyboardInterrupt\u001b[0m                         Traceback (most recent call last)",
      "Input \u001b[1;32mIn [54]\u001b[0m, in \u001b[0;36m<cell line: 2>\u001b[1;34m()\u001b[0m\n\u001b[0;32m     14\u001b[0m         x \u001b[38;5;241m=\u001b[39m x\u001b[38;5;241m.\u001b[39mto(device)\n\u001b[0;32m     15\u001b[0m         optimizer\u001b[38;5;241m.\u001b[39mzero_grad()\n\u001b[1;32m---> 16\u001b[0m         loss,reconstruction_loss,prediction_loss,latent_loss,norm_loss \u001b[38;5;241m=\u001b[39m \u001b[43mdynamic_loss\u001b[49m\u001b[43m(\u001b[49m\u001b[43mx\u001b[49m\u001b[43m,\u001b[49m\u001b[43mmodel\u001b[49m\u001b[43m,\u001b[49m\u001b[43mhorizon\u001b[49m\u001b[43m,\u001b[49m\u001b[43malpha\u001b[49m\u001b[38;5;241;43m=\u001b[39;49m\u001b[43malpha\u001b[49m\u001b[43m)\u001b[49m\n\u001b[0;32m     17\u001b[0m         loss\u001b[38;5;241m.\u001b[39mbackward()\n\u001b[0;32m     18\u001b[0m \u001b[38;5;66;03m#         torch.nn.utils.clip_grad_norm_(model.parameters(), 0.1)\u001b[39;00m\n",
      "Input \u001b[1;32mIn [40]\u001b[0m, in \u001b[0;36mdynamic_loss\u001b[1;34m(x, model, horizon, alpha)\u001b[0m\n\u001b[0;32m      1\u001b[0m \u001b[38;5;28;01mdef\u001b[39;00m \u001b[38;5;21mdynamic_loss\u001b[39m(x,model,horizon,alpha\u001b[38;5;241m=\u001b[39m\u001b[38;5;241m1\u001b[39m):\n\u001b[0;32m      2\u001b[0m     x_recon,x_ahead \u001b[38;5;241m=\u001b[39m x[:,:horizon,:],x[:,horizon:,:]\n\u001b[1;32m----> 3\u001b[0m     x_recon_hat,x_ahead_hat,latent,y_recon,y_ahead \u001b[38;5;241m=\u001b[39m \u001b[43mmodel\u001b[49m\u001b[43m(\u001b[49m\u001b[43mx\u001b[49m\u001b[43m,\u001b[49m\u001b[43mhorizon\u001b[49m\u001b[43m)\u001b[49m\n\u001b[0;32m      5\u001b[0m \u001b[38;5;66;03m#     x_recon_hat_latent = model._unnormalize(model.decoder_(latent))\u001b[39;00m\n\u001b[0;32m      6\u001b[0m     reconstruction_loss \u001b[38;5;241m=\u001b[39m F\u001b[38;5;241m.\u001b[39mmse_loss(x_recon_hat,x_recon)\n",
      "File \u001b[1;32m~\\anaconda3\\envs\\DYAN\\lib\\site-packages\\torch\\nn\\modules\\module.py:1110\u001b[0m, in \u001b[0;36mModule._call_impl\u001b[1;34m(self, *input, **kwargs)\u001b[0m\n\u001b[0;32m   1106\u001b[0m \u001b[38;5;66;03m# If we don't have any hooks, we want to skip the rest of the logic in\u001b[39;00m\n\u001b[0;32m   1107\u001b[0m \u001b[38;5;66;03m# this function, and just call forward.\u001b[39;00m\n\u001b[0;32m   1108\u001b[0m \u001b[38;5;28;01mif\u001b[39;00m \u001b[38;5;129;01mnot\u001b[39;00m (\u001b[38;5;28mself\u001b[39m\u001b[38;5;241m.\u001b[39m_backward_hooks \u001b[38;5;129;01mor\u001b[39;00m \u001b[38;5;28mself\u001b[39m\u001b[38;5;241m.\u001b[39m_forward_hooks \u001b[38;5;129;01mor\u001b[39;00m \u001b[38;5;28mself\u001b[39m\u001b[38;5;241m.\u001b[39m_forward_pre_hooks \u001b[38;5;129;01mor\u001b[39;00m _global_backward_hooks\n\u001b[0;32m   1109\u001b[0m         \u001b[38;5;129;01mor\u001b[39;00m _global_forward_hooks \u001b[38;5;129;01mor\u001b[39;00m _global_forward_pre_hooks):\n\u001b[1;32m-> 1110\u001b[0m     \u001b[38;5;28;01mreturn\u001b[39;00m forward_call(\u001b[38;5;241m*\u001b[39m\u001b[38;5;28minput\u001b[39m, \u001b[38;5;241m*\u001b[39m\u001b[38;5;241m*\u001b[39mkwargs)\n\u001b[0;32m   1111\u001b[0m \u001b[38;5;66;03m# Do not call functions when jit is used\u001b[39;00m\n\u001b[0;32m   1112\u001b[0m full_backward_hooks, non_full_backward_hooks \u001b[38;5;241m=\u001b[39m [], []\n",
      "Input \u001b[1;32mIn [39]\u001b[0m, in \u001b[0;36mTDYANT.forward\u001b[1;34m(self, x, horizon)\u001b[0m\n\u001b[0;32m     40\u001b[0m         dic_recon \u001b[38;5;241m=\u001b[39m dic[:horizon]\n\u001b[0;32m     41\u001b[0m \u001b[38;5;66;03m#         dic_ahead = dic[horizon:]\u001b[39;00m\n\u001b[0;32m     42\u001b[0m         \n\u001b[0;32m     43\u001b[0m         \u001b[38;5;66;03m## for UCF Dataset:\u001b[39;00m\n\u001b[0;32m     44\u001b[0m         \u001b[38;5;66;03m# 0.1\u001b[39;00m\n\u001b[1;32m---> 45\u001b[0m         sparsecode \u001b[38;5;241m=\u001b[39m \u001b[43mfista\u001b[49m\u001b[43m(\u001b[49m\u001b[43mdic_recon\u001b[49m\u001b[43m,\u001b[49m\u001b[43mlatent\u001b[49m\u001b[43m,\u001b[49m\u001b[38;5;241;43m0.01\u001b[39;49m\u001b[43m,\u001b[49m\u001b[38;5;241;43m100\u001b[39;49m\u001b[43m,\u001b[49m\u001b[38;5;28;43mself\u001b[39;49m\u001b[38;5;241;43m.\u001b[39;49m\u001b[43mdevice\u001b[49m\u001b[43m)\u001b[49m\n\u001b[0;32m     47\u001b[0m         y \u001b[38;5;241m=\u001b[39m torch\u001b[38;5;241m.\u001b[39mmatmul(dic,sparsecode)\n\u001b[0;32m     48\u001b[0m         y_recon \u001b[38;5;241m=\u001b[39m y[:,:horizon,:]\n",
      "File \u001b[1;32m~\\Desktop\\DYAN\\Code\\DyanOF.py:73\u001b[0m, in \u001b[0;36mfista\u001b[1;34m(D, Y, lambd, maxIter, device)\u001b[0m\n\u001b[0;32m     71\u001b[0m y_old \u001b[38;5;241m=\u001b[39m torch\u001b[38;5;241m.\u001b[39mmul( x_new,(\u001b[38;5;241m1\u001b[39m \u001b[38;5;241m+\u001b[39m tt))\n\u001b[0;32m     72\u001b[0m y_old \u001b[38;5;241m-\u001b[39m\u001b[38;5;241m=\u001b[39m torch\u001b[38;5;241m.\u001b[39mmul(x_old , tt)\n\u001b[1;32m---> 73\u001b[0m \u001b[38;5;28;01mif\u001b[39;00m torch\u001b[38;5;241m.\u001b[39mnorm((x_old \u001b[38;5;241m-\u001b[39m x_new),p\u001b[38;5;241m=\u001b[39m\u001b[38;5;241m2\u001b[39m)\u001b[38;5;241m/\u001b[39mx_old\u001b[38;5;241m.\u001b[39mshape[\u001b[38;5;241m1\u001b[39m] \u001b[38;5;241m<\u001b[39m \u001b[38;5;241m1e-4\u001b[39m:\n\u001b[0;32m     74\u001b[0m     x_old \u001b[38;5;241m=\u001b[39m x_new\n\u001b[0;32m     75\u001b[0m     \u001b[38;5;28;01mbreak\u001b[39;00m\n",
      "\u001b[1;31mKeyboardInterrupt\u001b[0m: "
     ]
    }
   ],
   "source": [
    "## Start the Training\n",
    "for epoch in range(start_epoch, EPOCH+1):\n",
    "   \n",
    "    model.train()\n",
    "    \n",
    "    train_epoch_loss = []; test_epoch_loss = []\n",
    "    train_norm_loss = []; test_norm_loss = []\n",
    "    train_latent_loss = []; test_latent_loss = [];\n",
    "    train_reconstruction_loss = []; test_reconstruction_loss = [];\n",
    "    train_prediction_loss = []; test_prediction_loss = []\n",
    "    \n",
    "    start = time.time()\n",
    "    for x in tqdm(train_dl):\n",
    "        x = x.to(device)\n",
    "        optimizer.zero_grad()\n",
    "        loss,reconstruction_loss,prediction_loss,latent_loss,norm_loss = dynamic_loss(x,model,horizon,alpha=alpha)\n",
    "        loss.backward()\n",
    "#         torch.nn.utils.clip_grad_norm_(model.parameters(), 0.1)\n",
    "\n",
    "        optimizer.step()\n",
    "        train_epoch_loss.append(loss.item()*x.shape[0])\n",
    "        train_latent_loss.append(latent_loss.item()*x.shape[0])\n",
    "        train_norm_loss.append(norm_loss.item()*x.shape[0])\n",
    "        train_reconstruction_loss.append(reconstruction_loss.item()*x.shape[0])\n",
    "        train_prediction_loss.append(prediction_loss.item()*x.shape[0])\n",
    "        end = time.time()\n",
    "    scheduler.step()\n",
    "    torch.cuda.empty_cache()\n",
    "    \n",
    "    if (epoch)%print_every == 0:\n",
    "        model.eval()\n",
    "        with torch.no_grad():\n",
    "            for x in tqdm(test_evaluator_dl):\n",
    "                x = x[0].to(device)\n",
    "#                 x = X_test[:,-72:,:].to(device)\n",
    "                loss,reconstruction_loss,prediction_loss,latent_loss,norm_loss = dynamic_loss(x,model,horizon,alpha=alpha)\n",
    "                test_epoch_loss.append(loss.item()*x.shape[0])\n",
    "                test_latent_loss.append(latent_loss.item()*x.shape[0])\n",
    "                test_norm_loss.append(norm_loss.item()*x.shape[0])\n",
    "                test_reconstruction_loss.append(reconstruction_loss.item()*x.shape[0])\n",
    "                test_prediction_loss.append(prediction_loss.item()*x.shape[0])\n",
    "                \n",
    "    print('Epoch: ', epoch)\n",
    "    print(\"| train time: %.6f\" % (end-start))\n",
    "    print('| train loss: %.6f' % (np.sum(train_epoch_loss)/N_train))\n",
    "    print('| train reconstruction loss: %.6f' % (np.sum(train_reconstruction_loss)/N_train))\n",
    "    print('| train prediction loss: %.6f' % (np.sum(train_prediction_loss)/N_train))\n",
    "    print('| train LATENT loss: %.6f' % (np.sum(train_latent_loss)/N_train))\n",
    "    print('| LATENT NORM: %.6f' % (np.sum(train_norm_loss)/N_train))\n",
    "    if (epoch)%print_every == 0:\n",
    "        print('| val loss: %.6f' % (np.sum(test_epoch_loss)/N_test))\n",
    "        print('| val reconstruction loss: %.6f' % (np.sum(test_reconstruction_loss)/N_test))\n",
    "        print('| val prediction loss: %.6f' % (np.sum(test_prediction_loss)/N_test))\n",
    "        print('| val LATENT loss: %.6f' % (np.sum(test_latent_loss)/N_test))\n",
    "        print('| val LATENT NORM: %.6f' % (np.sum(test_norm_loss)/N_test))\n",
    "    print(\"\\n\")\n",
    "\n",
    "#     print(\"Classification Report:\")\n",
    "#     print(classification_report(labels,predictions,zero_division=1))\n",
    "    \n",
    "    if epoch % saveEvery ==0 :\n",
    "        print(\"Saving Checkpoint\")\n",
    "        save_checkpoint({'epoch': epoch + 1,\n",
    "                        'state_dict': model.state_dict(),\n",
    "                        'optimizer' : optimizer.state_dict(),\n",
    "                        },f\"data/{dataset_name}/\"+checkptname+str(epoch)+'.pth')"
   ]
  },
  {
   "cell_type": "code",
   "execution_count": null,
   "id": "ad2f889d",
   "metadata": {},
   "outputs": [],
   "source": [
    "# print(\"Saving Checkpoint\")\n",
    "# checkptname = \"lorenz_prediction_fc_great\" #\"lorenz_prediction\\lorenz_prediction50_best\"\n",
    "# save_checkpoint({'epoch': epoch + 1,\n",
    "#                 'state_dict': model.state_dict(),\n",
    "#                 'optimizer' : optimizer.state_dict(),\n",
    "#                 },f\"data/{dataset_name}/\"+checkptname+str(epoch)+'.pth')"
   ]
  },
  {
   "cell_type": "code",
   "execution_count": null,
   "id": "96518df4",
   "metadata": {
    "scrolled": true
   },
   "outputs": [],
   "source": [
    "## If want to continue training from a checkpoint\n",
    "ckpt_file = f\"data/{dataset_name}/\"+checkptname+str(200)+'.pth' # for Kitti Dataset: 'KittiModel.pth'if(True):\n",
    "print(\"LOADING CHECKPT\")\n",
    "loadedcheckpoint = torch.load(ckpt_file)\n",
    "start_epoch = loadedcheckpoint['epoch']\n",
    "model.load_state_dict(loadedcheckpoint['state_dict'])\n",
    "optimizer.load_state_dict(loadedcheckpoint['optimizer'])"
   ]
  },
  {
   "cell_type": "code",
   "execution_count": 22,
   "id": "a95d8dc2",
   "metadata": {},
   "outputs": [
    {
     "name": "stderr",
     "output_type": "stream",
     "text": [
      " 50%|██████████████████████████████████████████                                          | 4/8 [00:03<00:03,  1.30it/s]\n"
     ]
    },
    {
     "ename": "KeyboardInterrupt",
     "evalue": "",
     "output_type": "error",
     "traceback": [
      "\u001b[1;31m---------------------------------------------------------------------------\u001b[0m",
      "\u001b[1;31mKeyboardInterrupt\u001b[0m                         Traceback (most recent call last)",
      "Input \u001b[1;32mIn [22]\u001b[0m, in \u001b[0;36m<cell line: 1>\u001b[1;34m()\u001b[0m\n\u001b[0;32m      8\u001b[0m \u001b[38;5;28;01mfor\u001b[39;00m x \u001b[38;5;129;01min\u001b[39;00m tqdm(test_evaluator_dl):\n\u001b[0;32m      9\u001b[0m     x \u001b[38;5;241m=\u001b[39m x[\u001b[38;5;241m0\u001b[39m]\u001b[38;5;241m.\u001b[39mto(device)\n\u001b[1;32m---> 10\u001b[0m     loss,reconstruction_loss,prediction_loss,latent_loss,norm_loss \u001b[38;5;241m=\u001b[39m \u001b[43mdynamic_loss\u001b[49m\u001b[43m(\u001b[49m\u001b[43mx\u001b[49m\u001b[43m,\u001b[49m\u001b[43mmodel\u001b[49m\u001b[43m,\u001b[49m\u001b[43mhorizon\u001b[49m\u001b[43m,\u001b[49m\u001b[43malpha\u001b[49m\u001b[38;5;241;43m=\u001b[39;49m\u001b[43malpha\u001b[49m\u001b[43m)\u001b[49m\n\u001b[0;32m     11\u001b[0m     test_epoch_loss\u001b[38;5;241m.\u001b[39mappend(loss\u001b[38;5;241m.\u001b[39mitem()\u001b[38;5;241m*\u001b[39mx\u001b[38;5;241m.\u001b[39mshape[\u001b[38;5;241m0\u001b[39m])\n\u001b[0;32m     12\u001b[0m     test_latent_loss\u001b[38;5;241m.\u001b[39mappend(latent_loss\u001b[38;5;241m.\u001b[39mitem()\u001b[38;5;241m*\u001b[39mx\u001b[38;5;241m.\u001b[39mshape[\u001b[38;5;241m0\u001b[39m])\n",
      "Input \u001b[1;32mIn [8]\u001b[0m, in \u001b[0;36mdynamic_loss\u001b[1;34m(x, model, horizon, alpha)\u001b[0m\n\u001b[0;32m      1\u001b[0m \u001b[38;5;28;01mdef\u001b[39;00m \u001b[38;5;21mdynamic_loss\u001b[39m(x,model,horizon,alpha\u001b[38;5;241m=\u001b[39m\u001b[38;5;241m1\u001b[39m):\n\u001b[0;32m      2\u001b[0m     x_recon,x_ahead \u001b[38;5;241m=\u001b[39m x[:,:horizon,:],x[:,horizon:,:]\n\u001b[1;32m----> 3\u001b[0m     x_recon_hat,x_ahead_hat,latent,y_recon,y_ahead \u001b[38;5;241m=\u001b[39m \u001b[43mmodel\u001b[49m\u001b[43m(\u001b[49m\u001b[43mx\u001b[49m\u001b[43m,\u001b[49m\u001b[43mhorizon\u001b[49m\u001b[43m)\u001b[49m\n\u001b[0;32m      5\u001b[0m \u001b[38;5;66;03m#     x_recon_hat_latent = model._unnormalize(model.decoder_(latent))\u001b[39;00m\n\u001b[0;32m      7\u001b[0m     reconstruction_loss \u001b[38;5;241m=\u001b[39m F\u001b[38;5;241m.\u001b[39mmse_loss(x_recon_hat,x_recon)\n",
      "File \u001b[1;32m~\\anaconda3\\envs\\DYAN\\lib\\site-packages\\torch\\nn\\modules\\module.py:1110\u001b[0m, in \u001b[0;36mModule._call_impl\u001b[1;34m(self, *input, **kwargs)\u001b[0m\n\u001b[0;32m   1106\u001b[0m \u001b[38;5;66;03m# If we don't have any hooks, we want to skip the rest of the logic in\u001b[39;00m\n\u001b[0;32m   1107\u001b[0m \u001b[38;5;66;03m# this function, and just call forward.\u001b[39;00m\n\u001b[0;32m   1108\u001b[0m \u001b[38;5;28;01mif\u001b[39;00m \u001b[38;5;129;01mnot\u001b[39;00m (\u001b[38;5;28mself\u001b[39m\u001b[38;5;241m.\u001b[39m_backward_hooks \u001b[38;5;129;01mor\u001b[39;00m \u001b[38;5;28mself\u001b[39m\u001b[38;5;241m.\u001b[39m_forward_hooks \u001b[38;5;129;01mor\u001b[39;00m \u001b[38;5;28mself\u001b[39m\u001b[38;5;241m.\u001b[39m_forward_pre_hooks \u001b[38;5;129;01mor\u001b[39;00m _global_backward_hooks\n\u001b[0;32m   1109\u001b[0m         \u001b[38;5;129;01mor\u001b[39;00m _global_forward_hooks \u001b[38;5;129;01mor\u001b[39;00m _global_forward_pre_hooks):\n\u001b[1;32m-> 1110\u001b[0m     \u001b[38;5;28;01mreturn\u001b[39;00m forward_call(\u001b[38;5;241m*\u001b[39m\u001b[38;5;28minput\u001b[39m, \u001b[38;5;241m*\u001b[39m\u001b[38;5;241m*\u001b[39mkwargs)\n\u001b[0;32m   1111\u001b[0m \u001b[38;5;66;03m# Do not call functions when jit is used\u001b[39;00m\n\u001b[0;32m   1112\u001b[0m full_backward_hooks, non_full_backward_hooks \u001b[38;5;241m=\u001b[39m [], []\n",
      "Input \u001b[1;32mIn [7]\u001b[0m, in \u001b[0;36mTDYANT.forward\u001b[1;34m(self, x, horizon)\u001b[0m\n\u001b[0;32m     32\u001b[0m         T_Total \u001b[38;5;241m=\u001b[39m x_recon\u001b[38;5;241m.\u001b[39mshape[\u001b[38;5;241m1\u001b[39m] \u001b[38;5;241m+\u001b[39m x_ahead\u001b[38;5;241m.\u001b[39mshape[\u001b[38;5;241m1\u001b[39m]\n\u001b[0;32m     35\u001b[0m         latent \u001b[38;5;241m=\u001b[39m \u001b[38;5;28mself\u001b[39m\u001b[38;5;241m.\u001b[39mencoder_(x_recon)\n\u001b[1;32m---> 37\u001b[0m         dic \u001b[38;5;241m=\u001b[39m \u001b[43mcreatRealDictionary\u001b[49m\u001b[43m(\u001b[49m\u001b[43mT_Total\u001b[49m\u001b[43m,\u001b[49m\u001b[38;5;28;43mself\u001b[39;49m\u001b[38;5;241;43m.\u001b[39;49m\u001b[43mrr\u001b[49m\u001b[43m,\u001b[49m\u001b[38;5;28;43mself\u001b[39;49m\u001b[38;5;241;43m.\u001b[39;49m\u001b[43mtheta\u001b[49m\u001b[43m,\u001b[49m\u001b[43mdevice\u001b[49m\u001b[38;5;241;43m=\u001b[39;49m\u001b[38;5;28;43mself\u001b[39;49m\u001b[38;5;241;43m.\u001b[39;49m\u001b[43mdevice\u001b[49m\u001b[43m)\u001b[49m\n\u001b[0;32m     38\u001b[0m         dic_recon \u001b[38;5;241m=\u001b[39m dic[:horizon]\n\u001b[0;32m     39\u001b[0m \u001b[38;5;66;03m#         dic_ahead = dic[horizon:]\u001b[39;00m\n\u001b[0;32m     40\u001b[0m         \n\u001b[0;32m     41\u001b[0m         \u001b[38;5;66;03m## for UCF Dataset:\u001b[39;00m\n\u001b[0;32m     42\u001b[0m         \u001b[38;5;66;03m# 0.1\u001b[39;00m\n",
      "File \u001b[1;32m~\\Desktop\\DYAN\\Code\\DyanOF.py:22\u001b[0m, in \u001b[0;36mcreatRealDictionary\u001b[1;34m(T, Drr, Dtheta, normalize_dict, device)\u001b[0m\n\u001b[0;32m     20\u001b[0m         W1 \u001b[38;5;241m=\u001b[39m torch\u001b[38;5;241m.\u001b[39mmul(torch\u001b[38;5;241m.\u001b[39mpow(Drr,i) , torch\u001b[38;5;241m.\u001b[39mcos(i \u001b[38;5;241m*\u001b[39m Dtheta))\n\u001b[0;32m     21\u001b[0m         W2 \u001b[38;5;241m=\u001b[39m torch\u001b[38;5;241m.\u001b[39mmul ( torch\u001b[38;5;241m.\u001b[39mpow(\u001b[38;5;241m-\u001b[39mDrr,i) , torch\u001b[38;5;241m.\u001b[39mcos(i \u001b[38;5;241m*\u001b[39m Dtheta) )\n\u001b[1;32m---> 22\u001b[0m         W3 \u001b[38;5;241m=\u001b[39m torch\u001b[38;5;241m.\u001b[39mmul ( torch\u001b[38;5;241m.\u001b[39mpow(Drr,i) , \u001b[43mtorch\u001b[49m\u001b[38;5;241;43m.\u001b[39;49m\u001b[43msin\u001b[49m\u001b[43m(\u001b[49m\u001b[43mi\u001b[49m\u001b[43m \u001b[49m\u001b[38;5;241;43m*\u001b[39;49m\u001b[43mDtheta\u001b[49m\u001b[43m)\u001b[49m )\n\u001b[0;32m     23\u001b[0m         W4 \u001b[38;5;241m=\u001b[39m torch\u001b[38;5;241m.\u001b[39mmul ( torch\u001b[38;5;241m.\u001b[39mpow(\u001b[38;5;241m-\u001b[39mDrr,i) , torch\u001b[38;5;241m.\u001b[39msin(i\u001b[38;5;241m*\u001b[39mDtheta) )\n\u001b[0;32m     24\u001b[0m                 \u001b[38;5;66;03m# double poles ... \u001b[39;00m\n\u001b[0;32m     25\u001b[0m \u001b[38;5;66;03m#         W5 = i*torch.mul(torch.pow(Drr,i) , torch.cos(i * Dtheta))\u001b[39;00m\n\u001b[0;32m     26\u001b[0m \u001b[38;5;66;03m#         W6 = i*torch.mul ( torch.pow(-Drr,i) , torch.cos(i * Dtheta) )\u001b[39;00m\n\u001b[1;32m   (...)\u001b[0m\n\u001b[0;32m     29\u001b[0m         \n\u001b[0;32m     30\u001b[0m \u001b[38;5;66;03m#         W = torch.cat((Wones,W1,W2,W3,W4,W5,W6,W7,W8),0)\u001b[39;00m\n",
      "\u001b[1;31mKeyboardInterrupt\u001b[0m: "
     ]
    }
   ],
   "source": [
    "with torch.no_grad():\n",
    "    model.eval()\n",
    "    train_epoch_loss = []; test_epoch_loss = []\n",
    "    train_norm_loss = []; test_norm_loss = []\n",
    "    train_latent_loss = []; test_latent_loss = [];\n",
    "    train_reconstruction_loss = []; test_reconstruction_loss = [];\n",
    "    train_prediction_loss = []; test_prediction_loss = []\n",
    "    for x in tqdm(test_evaluator_dl):\n",
    "        x = x[0].to(device)\n",
    "        loss,reconstruction_loss,prediction_loss,latent_loss,norm_loss = dynamic_loss(x,model,horizon,alpha=alpha)\n",
    "        test_epoch_loss.append(loss.item()*x.shape[0])\n",
    "        test_latent_loss.append(latent_loss.item()*x.shape[0])\n",
    "        test_norm_loss.append(norm_loss.item()*x.shape[0])\n",
    "        test_reconstruction_loss.append(reconstruction_loss.item()*x.shape[0])\n",
    "        test_prediction_loss.append(prediction_loss.item()*x.shape[0])\n",
    "print('| val loss: %.6f' % (np.sum(test_epoch_loss)/N_test))\n",
    "print('| val reconstruction loss: %.6f' % (np.sum(test_reconstruction_loss)/N_test))\n",
    "print('| val prediction loss: %.6f' % (np.sum(test_prediction_loss)/N_test))\n",
    "print('| val LATENT loss: %.6f' % (np.sum(test_latent_loss)/N_test))\n",
    "print('| val LATENT NORM: %.6f' % (np.sum(test_norm_loss)/N_test))"
   ]
  },
  {
   "cell_type": "code",
   "execution_count": 24,
   "id": "3db0acf1",
   "metadata": {},
   "outputs": [
    {
     "name": "stdout",
     "output_type": "stream",
     "text": [
      "| val loss: 0.762352\n",
      "| val reconstruction loss: 0.069184\n",
      "| val prediction loss: 0.231056\n",
      "| val LATENT loss: 0.000153\n",
      "| val LATENT NORM: 11.275913\n"
     ]
    }
   ],
   "source": [
    "with torch.no_grad():\n",
    "    model.eval()\n",
    "    loss,reconstruction_loss,prediction_loss,latent_loss,norm_loss = dynamic_loss(X_test[:,-Time_Length:,:].to(device),model,horizon,alpha=alpha)\n",
    "    print('| val loss: %.6f' % (loss))\n",
    "    print('| val reconstruction loss: %.6f' % (reconstruction_loss))\n",
    "    print('| val prediction loss: %.6f' % (prediction_loss))\n",
    "    print('| val LATENT loss: %.6f' % (latent_loss))\n",
    "    print('| val LATENT NORM: %.6f' % (norm_loss))"
   ]
  },
  {
   "cell_type": "code",
   "execution_count": 29,
   "id": "b0d81843",
   "metadata": {},
   "outputs": [
    {
     "data": {
      "text/plain": [
       "torch.Size([1000, 88, 3])"
      ]
     },
     "execution_count": 29,
     "metadata": {},
     "output_type": "execute_result"
    }
   ],
   "source": [
    "x.shape"
   ]
  },
  {
   "cell_type": "code",
   "execution_count": 36,
   "id": "0f1495ad",
   "metadata": {},
   "outputs": [
    {
     "name": "stdout",
     "output_type": "stream",
     "text": [
      "| val prediction loss: 0.244869\n"
     ]
    }
   ],
   "source": [
    "with torch.no_grad():\n",
    "    x = X_test[:,100:(100+Time_Length),:]\n",
    "    model.eval()\n",
    "    x_recon_hat,x_ahead_hat,latent,y_recon,y_ahead = model(x.to(device),horizon)\n",
    "    loss = F.mse_loss(x_ahead_hat,x[:,-72:,:].to(device))\n",
    "    print('| val prediction loss: %.6f' % loss)"
   ]
  },
  {
   "cell_type": "code",
   "execution_count": null,
   "id": "a67608e2",
   "metadata": {},
   "outputs": [],
   "source": [
    "model = model.to(\"cuda:0\")\n",
    "model.device = \"cuda:0\""
   ]
  },
  {
   "cell_type": "code",
   "execution_count": 37,
   "id": "99c657c2",
   "metadata": {
    "scrolled": false
   },
   "outputs": [
    {
     "data": {
      "image/png": "[encoded data removed]",
      "text/plain": [
       "<Figure size 720x720 with 1 Axes>"
      ]
     },
     "metadata": {
      "needs_background": "light"
     },
     "output_type": "display_data"
    }
   ],
   "source": [
    "n = 5\n",
    "x = X_test[[n],-Time_Length:,:]\n",
    "model.eval()\n",
    "with torch.no_grad():\n",
    "    x_recon_hat,x_ahead_hat,latent,y_recon,y_ahead = model(x.to(device),horizon)\n",
    "\n",
    "    plt.figure(figsize=(10,10))\n",
    "#     for i in range(3):\n",
    "    plt.plot(np.arange(Time_Length),x[0])\n",
    "    plt.plot(np.arange(horizon),x_recon_hat[0,:,:].cpu(),'--')\n",
    "    plt.plot(horizon+np.arange(Time_Length-horizon),x_ahead_hat[0,:,:].cpu(),'r.')\n",
    "\n",
    "    plt.xlabel(\"Time (n)\",fontsize=20)\n",
    "    plt.ylabel(\"State\",fontsize=20)\n",
    "    plt.legend([\"x\",\"y\",\"z\",\"$x_{reconstructed}$\",\"$y_{reconstructed}$\",\"$z_{reconstructed}$\",\"Prediction\"],fontsize=20)"
   ]
  },
  {
   "cell_type": "code",
   "execution_count": null,
   "id": "b8c3415a",
   "metadata": {
    "scrolled": true
   },
   "outputs": [],
   "source": [
    "plt.figure(figsize=(10,10))\n",
    "plt.plot(x[0,:,0],x[0,:,1],'k')\n",
    "plt.plot(x_recon_hat[0,:,0].cpu(),x_recon_hat[0,:,1].cpu(),'b*')\n",
    "plt.plot(x_ahead_hat[0,:,0].cpu(),x_ahead_hat[0,:,1].cpu(),'r*')"
   ]
  },
  {
   "cell_type": "code",
   "execution_count": 42,
   "id": "678658d4",
   "metadata": {},
   "outputs": [
    {
     "name": "stderr",
     "output_type": "stream",
     "text": [
      "C:\\Users\\lpott\\anaconda3\\envs\\DYAN\\lib\\site-packages\\mpl_toolkits\\mplot3d\\proj3d.py:136: FutureWarning: The input object of type 'Tensor' is an array-like implementing one of the corresponding protocols (`__array__`, `__array_interface__` or `__array_struct__`); but not a sequence (or 0-D). In the future, this object will be coerced as if it was first converted using `np.array(obj)`. To retain the old behaviour, you have to either modify the type 'Tensor', or assign to an empty array created with `np.empty(correct_shape, dtype=object)`.\n",
      "  return np.array([xs, ys, zs, np.ones_like(xs)])\n",
      "C:\\Users\\lpott\\anaconda3\\envs\\DYAN\\lib\\site-packages\\mpl_toolkits\\mplot3d\\proj3d.py:136: VisibleDeprecationWarning: Creating an ndarray from ragged nested sequences (which is a list-or-tuple of lists-or-tuples-or ndarrays with different lengths or shapes) is deprecated. If you meant to do this, you must specify 'dtype=object' when creating the ndarray.\n",
      "  return np.array([xs, ys, zs, np.ones_like(xs)])\n"
     ]
    }
   ],
   "source": [
    "with torch.no_grad():\n",
    "    nrow = 8; ncol = 16\n",
    "    fig, axs = plt.subplots(nrow, ncol)\n",
    "    if nrow == 1:\n",
    "        axs = np.expand_dims(axs,0)\n",
    "    for i in range(nrow):\n",
    "        for j in range(ncol):\n",
    "            axs[i,j].plot(latent[0,:,i*ncol + j].cpu().detach().numpy())\n",
    "            axs[i,j].plot(y_recon[0,:,i*ncol + j].cpu().detach().numpy())\n",
    "            axs[i,j].title.set_text(f\"Feature {i*ncol+j+1}\")"
   ]
  },
  {
   "cell_type": "code",
   "execution_count": null,
   "id": "433ae7b9",
   "metadata": {},
   "outputs": [],
   "source": [
    "with torch.no_grad():\n",
    "    nrow = 8; ncol = 8\n",
    "    fig, axs = plt.subplots(nrow, ncol)\n",
    "    if nrow == 1:\n",
    "        axs = np.expand_dims(axs,0)\n",
    "    for i in range(nrow):\n",
    "        for j in range(ncol):\n",
    "            axs[i,j].plot(y_ahead[0,:,i*ncol + j].cpu().detach().numpy())\n",
    "            axs[i,j].title.set_text(f\"Feature {i*ncol+j+1}\")"
   ]
  },
  {
   "cell_type": "code",
   "execution_count": null,
   "id": "f6d2a002",
   "metadata": {},
   "outputs": [],
   "source": [
    "128/8"
   ]
  },
  {
   "cell_type": "code",
   "execution_count": 41,
   "id": "37e0c676",
   "metadata": {},
   "outputs": [],
   "source": [
    "with torch.no_grad():\n",
    "    nrow = 8; ncol = 16\n",
    "    fig, axs = plt.subplots(nrow, ncol)\n",
    "    if nrow == 1:\n",
    "        axs = np.expand_dims(axs,0)\n",
    "    for i in range(nrow):\n",
    "        for j in range(ncol):\n",
    "            axs[i,j].plot(torch.concat((y_recon[0,:,i*ncol + j],y_ahead[0,:,i*ncol + j])).cpu().detach().numpy())\n",
    "            axs[i,j].title.set_text(f\"Feature {i*ncol+j+1}\")\n",
    "            axs[i,j].title.set_fontsize(30)"
   ]
  },
  {
   "cell_type": "code",
   "execution_count": null,
   "id": "0220819e",
   "metadata": {},
   "outputs": [],
   "source": [
    "plt.figure()\n",
    "%matplotlib qt5\n",
    "ax = plt.axes(projection='3d')\n",
    "ax.plot3D(x[0,:,0],x[0,:,1],x[0,:,2],'k-') #c=np.linspace(0,1,Time_Length))\n",
    "ax.set_xlabel('$X$', fontsize=20)\n",
    "ax.set_ylabel('$Y$',fontsize=20)\n",
    "ax.set_zlabel(r'$Z$', fontsize=20)"
   ]
  },
  {
   "cell_type": "code",
   "execution_count": 40,
   "id": "40e15b8c",
   "metadata": {
    "scrolled": true
   },
   "outputs": [
    {
     "name": "stderr",
     "output_type": "stream",
     "text": [
      "C:\\Users\\lpott\\anaconda3\\envs\\DYAN\\lib\\site-packages\\mpl_toolkits\\mplot3d\\proj3d.py:136: FutureWarning: The input object of type 'Tensor' is an array-like implementing one of the corresponding protocols (`__array__`, `__array_interface__` or `__array_struct__`); but not a sequence (or 0-D). In the future, this object will be coerced as if it was first converted using `np.array(obj)`. To retain the old behaviour, you have to either modify the type 'Tensor', or assign to an empty array created with `np.empty(correct_shape, dtype=object)`.\n",
      "  return np.array([xs, ys, zs, np.ones_like(xs)])\n",
      "C:\\Users\\lpott\\anaconda3\\envs\\DYAN\\lib\\site-packages\\mpl_toolkits\\mplot3d\\proj3d.py:136: VisibleDeprecationWarning: Creating an ndarray from ragged nested sequences (which is a list-or-tuple of lists-or-tuples-or ndarrays with different lengths or shapes) is deprecated. If you meant to do this, you must specify 'dtype=object' when creating the ndarray.\n",
      "  return np.array([xs, ys, zs, np.ones_like(xs)])\n"
     ]
    }
   ],
   "source": [
    "plt.figure()\n",
    "%matplotlib qt5\n",
    "ax = plt.axes(projection='3d')\n",
    "ax.plot3D(x[0,:,0].cpu(),x[0,:,1].cpu(),x[0,:,2].cpu(),'k-') #c=np.linspace(0,1,Time_Length))\n",
    "ax.plot3D(x_recon_hat[0,:,0].cpu(),x_recon_hat[0,:,1].cpu(),x_recon_hat[0,:,2].cpu(),'b*')\n",
    "ax.plot3D(x_ahead_hat[0,:,0].cpu(),x_ahead_hat[0,:,1].cpu(),x_ahead_hat[0,:,2].cpu(),'rx')\n",
    "ax.set_xlabel('$X$', fontsize=20)\n",
    "ax.set_ylabel('$Y$',fontsize=20)\n",
    "ax.set_zlabel(r'$Z$', fontsize=20)\n",
    "plt.legend([\"Actual\",\"Reconstruction\",\"Prediction\"])\n",
    "plt.show()"
   ]
  },
  {
   "cell_type": "code",
   "execution_count": 39,
   "id": "e4ad9423",
   "metadata": {},
   "outputs": [
    {
     "ename": "IndexError",
     "evalue": "index 5 is out of bounds for dimension 0 with size 1",
     "output_type": "error",
     "traceback": [
      "\u001b[1;31m---------------------------------------------------------------------------\u001b[0m",
      "\u001b[1;31mIndexError\u001b[0m                                Traceback (most recent call last)",
      "Input \u001b[1;32mIn [39]\u001b[0m, in \u001b[0;36m<cell line: 4>\u001b[1;34m()\u001b[0m\n\u001b[0;32m      2\u001b[0m get_ipython()\u001b[38;5;241m.\u001b[39mrun_line_magic(\u001b[38;5;124m'\u001b[39m\u001b[38;5;124mmatplotlib\u001b[39m\u001b[38;5;124m'\u001b[39m, \u001b[38;5;124m'\u001b[39m\u001b[38;5;124mqt5\u001b[39m\u001b[38;5;124m'\u001b[39m)\n\u001b[0;32m      3\u001b[0m ax \u001b[38;5;241m=\u001b[39m plt\u001b[38;5;241m.\u001b[39maxes(projection\u001b[38;5;241m=\u001b[39m\u001b[38;5;124m'\u001b[39m\u001b[38;5;124m3d\u001b[39m\u001b[38;5;124m'\u001b[39m)\n\u001b[1;32m----> 4\u001b[0m ax\u001b[38;5;241m.\u001b[39mscatter3D(\u001b[43mx\u001b[49m\u001b[43m[\u001b[49m\u001b[43mn\u001b[49m\u001b[43m,\u001b[49m\u001b[43mhorizon\u001b[49m\u001b[43m:\u001b[49m\u001b[43m,\u001b[49m\u001b[38;5;241;43m0\u001b[39;49m\u001b[43m]\u001b[49m,x[n,horizon:,\u001b[38;5;241m1\u001b[39m],x[n,horizon:,\u001b[38;5;241m2\u001b[39m],c\u001b[38;5;241m=\u001b[39mnp\u001b[38;5;241m.\u001b[39mlinspace(\u001b[38;5;241m0\u001b[39m,\u001b[38;5;241m1\u001b[39m,Time_Length\u001b[38;5;241m-\u001b[39mhorizon))\n\u001b[0;32m      5\u001b[0m ax\u001b[38;5;241m.\u001b[39mscatter3D(x_ahead_hat[n,:,\u001b[38;5;241m0\u001b[39m]\u001b[38;5;241m.\u001b[39mcpu(),x_ahead_hat[n,:,\u001b[38;5;241m1\u001b[39m]\u001b[38;5;241m.\u001b[39mcpu(),x_ahead_hat[n,:,\u001b[38;5;241m2\u001b[39m]\u001b[38;5;241m.\u001b[39mcpu())\n\u001b[0;32m      6\u001b[0m ax\u001b[38;5;241m.\u001b[39mset_xlabel(\u001b[38;5;124m'\u001b[39m\u001b[38;5;124m$X$\u001b[39m\u001b[38;5;124m'\u001b[39m, fontsize\u001b[38;5;241m=\u001b[39m\u001b[38;5;241m20\u001b[39m)\n",
      "\u001b[1;31mIndexError\u001b[0m: index 5 is out of bounds for dimension 0 with size 1"
     ]
    }
   ],
   "source": [
    "# plt.figure()\n",
    "%matplotlib qt5\n",
    "ax = plt.axes(projection='3d')\n",
    "ax.scatter3D(x[n,horizon:,0],x[n,horizon:,1],x[n,horizon:,2],c=np.linspace(0,1,Time_Length-horizon))\n",
    "ax.scatter3D(x_ahead_hat[n,:,0].cpu(),x_ahead_hat[n,:,1].cpu(),x_ahead_hat[n,:,2].cpu())\n",
    "ax.set_xlabel('$X$', fontsize=20)\n",
    "ax.set_ylabel('$Y$',fontsize=20)\n",
    "ax.set_zlabel(r'$Z$', fontsize=20)\n",
    "plt.show()"
   ]
  },
  {
   "cell_type": "code",
   "execution_count": null,
   "id": "5a52c765",
   "metadata": {},
   "outputs": [],
   "source": [
    "X = np.array([[0.778,0.770,0.756,0.732,0.722,0.756,0.717],\n",
    "[0.689,0.683, 0.647, 0.633, 0.577, 0.528 ,0.529],\n",
    "[0.993,0.992,0.712, 0.696, 0.319, 0.956, 0.963],\n",
    "[0.851,0.825,0.751 ,0.983 ,0.399, 0.688, 0.711]])"
   ]
  },
  {
   "cell_type": "code",
   "execution_count": null,
   "id": "bc48da3f",
   "metadata": {},
   "outputs": [],
   "source": [
    "import pandas as pd"
   ]
  },
  {
   "cell_type": "code",
   "execution_count": null,
   "id": "189abd50",
   "metadata": {},
   "outputs": [],
   "source": [
    "ranks = pd.DataFrame(X).rank(axis=1,ascending=False)"
   ]
  },
  {
   "cell_type": "code",
   "execution_count": null,
   "id": "6f7035f9",
   "metadata": {},
   "outputs": [],
   "source": [
    "ranks"
   ]
  },
  {
   "cell_type": "code",
   "execution_count": null,
   "id": "73f0bef4",
   "metadata": {},
   "outputs": [],
   "source": [
    "ranks"
   ]
  },
  {
   "cell_type": "code",
   "execution_count": null,
   "id": "713105c0",
   "metadata": {},
   "outputs": [],
   "source": [
    "ranks.mean(0)"
   ]
  }
 ],
 "metadata": {
  "kernelspec": {
   "display_name": "DYAN",
   "language": "python",
   "name": "dyan"
  },
  "language_info": {
   "codemirror_mode": {
    "name": "ipython",
    "version": 3
   },
   "file_extension": ".py",
   "mimetype": "text/x-python",
   "name": "python",
   "nbconvert_exporter": "python",
   "pygments_lexer": "ipython3",
   "version": "3.9.7"
  }
 },
 "nbformat": 4,
 "nbformat_minor": 5
}
