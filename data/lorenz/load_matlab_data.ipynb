{
 "cells": [
  {
   "cell_type": "code",
   "execution_count": 1,
   "id": "f359e319",
   "metadata": {},
   "outputs": [],
   "source": [
    "%matplotlib inline\n",
    "%matplotlib qt5"
   ]
  },
  {
   "cell_type": "code",
   "execution_count": 2,
   "id": "90934a45",
   "metadata": {},
   "outputs": [],
   "source": [
    "import os \n",
    "import pandas as pd\n",
    "import numpy as np\n",
    "import openpyxl\n",
    "import matplotlib.pyplot as plt\n",
    "from scipy.io import loadmat\n",
    "from mpl_toolkits import mplot3d\n",
    "import pickle"
   ]
  },
  {
   "cell_type": "code",
   "execution_count": 3,
   "id": "5a2a932b",
   "metadata": {},
   "outputs": [],
   "source": [
    "dataset_name = \"nonlinear\"\n",
    "path = os.path.join(r\"C:\\Users\\lpott\\Desktop\\DYAN\\Code\\data\",dataset_name)"
   ]
  },
  {
   "cell_type": "code",
   "execution_count": 4,
   "id": "1385415e",
   "metadata": {},
   "outputs": [],
   "source": [
    "train = loadmat(os.path.join(path,\"train.mat\"))['train']\n",
    "val = loadmat(os.path.join(path,\"val.mat\"))['val']\n",
    "test = loadmat(os.path.join(path,\"test.mat\"))['test']"
   ]
  },
  {
   "cell_type": "code",
   "execution_count": 5,
   "id": "36c60112",
   "metadata": {},
   "outputs": [],
   "source": [
    "# ax = plt.axes(projection='3d')\n",
    "# ax.scatter3D(train[0,:,0],train[0,:,1],train[0,:,2],c=np.linspace(0,1,len(train[0,:,0])))\n",
    "# ax.plot3D(train[0,:,0],train[0,:,1],train[0,:,2])\n",
    "# plt.show()"
   ]
  },
  {
   "cell_type": "code",
   "execution_count": 6,
   "id": "34d5405d",
   "metadata": {},
   "outputs": [],
   "source": [
    "index = np.repeat(np.arange(train.shape[0]),train.shape[1])\n",
    "train_df = pd.DataFrame(train.reshape(train.shape[0]*train.shape[1],train.shape[2]),index=index)\n",
    "train_labels = pd.DataFrame(np.arange(train.shape[0]))"
   ]
  },
  {
   "cell_type": "code",
   "execution_count": 7,
   "id": "8b789fc6",
   "metadata": {},
   "outputs": [],
   "source": [
    "index = np.repeat(np.arange(val.shape[0]),val.shape[1])\n",
    "val_df = pd.DataFrame(val.reshape(val.shape[0]*val.shape[1],val.shape[2]),index=index)\n",
    "val_labels = pd.DataFrame(np.arange(val.shape[0]))"
   ]
  },
  {
   "cell_type": "code",
   "execution_count": 8,
   "id": "95db28f4",
   "metadata": {},
   "outputs": [],
   "source": [
    "index = np.repeat(np.arange(test.shape[0]),test.shape[1])\n",
    "test_df = pd.DataFrame(test.reshape(test.shape[0]*test.shape[1],test.shape[2]),index=index)\n",
    "test_labels = pd.DataFrame(np.arange(test.shape[0]))"
   ]
  },
  {
   "cell_type": "code",
   "execution_count": 9,
   "id": "835ff95e",
   "metadata": {},
   "outputs": [],
   "source": [
    "with open(os.path.join(path,f\"{dataset_name}_train_inputs.pickle\"), \"wb\") as handle:\n",
    "    pickle.dump(train_df,handle)\n",
    "    \n",
    "with open(os.path.join(path,f\"{dataset_name}_train_labels.pickle\"), \"wb\") as handle:\n",
    "    pickle.dump(train_labels,handle)\n",
    "\n",
    "with open(os.path.join(path,f\"{dataset_name}_test_inputs.pickle\"), \"wb\") as handle:\n",
    "    pickle.dump(test_df,handle)\n",
    "    \n",
    "with open(os.path.join(path,f\"{dataset_name}_test_labels.pickle\"), \"wb\") as handle:\n",
    "    pickle.dump(test_labels,handle)\n",
    "    # train_dictionary,train_keys = create_data_dictionary(train_df,train_labels)"
   ]
  },
  {
   "cell_type": "code",
   "execution_count": 10,
   "id": "26f294e8",
   "metadata": {},
   "outputs": [
    {
     "data": {
      "text/plain": [
       "(550, 2)"
      ]
     },
     "execution_count": 10,
     "metadata": {},
     "output_type": "execute_result"
    }
   ],
   "source": [
    "test_df.loc[0].shape"
   ]
  },
  {
   "cell_type": "code",
   "execution_count": 11,
   "id": "1e205401",
   "metadata": {},
   "outputs": [
    {
     "data": {
      "text/plain": [
       "Int64Index([   0,    1,    2,    3,    4,    5,    6,    7,    8,    9,\n",
       "            ...\n",
       "            9990, 9991, 9992, 9993, 9994, 9995, 9996, 9997, 9998, 9999],\n",
       "           dtype='int64', length=10000)"
      ]
     },
     "execution_count": 11,
     "metadata": {},
     "output_type": "execute_result"
    }
   ],
   "source": [
    "train_df.index.unique()"
   ]
  },
  {
   "cell_type": "code",
   "execution_count": null,
   "id": "8fe14b45",
   "metadata": {},
   "outputs": [],
   "source": []
  }
 ],
 "metadata": {
  "kernelspec": {
   "display_name": "DYAN",
   "language": "python",
   "name": "dyan"
  },
  "language_info": {
   "codemirror_mode": {
    "name": "ipython",
    "version": 3
   },
   "file_extension": ".py",
   "mimetype": "text/x-python",
   "name": "python",
   "nbconvert_exporter": "python",
   "pygments_lexer": "ipython3",
   "version": "3.9.7"
  }
 },
 "nbformat": 4,
 "nbformat_minor": 5
}
